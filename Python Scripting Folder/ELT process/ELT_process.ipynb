{
 "cells": [
  {
   "cell_type": "markdown",
   "id": "fee67268",
   "metadata": {},
   "source": [
    "## Importing Library's:"
   ]
  },
  {
   "cell_type": "code",
   "execution_count": 1,
   "id": "465868ad",
   "metadata": {},
   "outputs": [],
   "source": [
    "import pandas as pd\n",
    "import numpy as np\n",
    "import seaborn as sna\n",
    "import matplotlib.pyplot as plt"
   ]
  },
  {
   "cell_type": "markdown",
   "id": "9de36c8b",
   "metadata": {},
   "source": [
    "##  Extracting Data from Data Source(SQL_Database):"
   ]
  },
  {
   "cell_type": "code",
   "execution_count": 2,
   "id": "58611c31",
   "metadata": {
    "scrolled": true
   },
   "outputs": [
    {
     "name": "stderr",
     "output_type": "stream",
     "text": [
      "C:\\Users\\DELL\\AppData\\Local\\Temp\\ipykernel_22112\\2599352051.py:20: UserWarning: pandas only supports SQLAlchemy connectable (engine/connection) or database string URI or sqlite3 DBAPI2 connection. Other DBAPI2 objects are not tested. Please consider using SQLAlchemy.\n",
      "  df = pd.read_sql(query, conn)\n"
     ]
    },
    {
     "data": {
      "text/html": [
       "<div>\n",
       "<style scoped>\n",
       "    .dataframe tbody tr th:only-of-type {\n",
       "        vertical-align: middle;\n",
       "    }\n",
       "\n",
       "    .dataframe tbody tr th {\n",
       "        vertical-align: top;\n",
       "    }\n",
       "\n",
       "    .dataframe thead th {\n",
       "        text-align: right;\n",
       "    }\n",
       "</style>\n",
       "<table border=\"1\" class=\"dataframe\">\n",
       "  <thead>\n",
       "    <tr style=\"text-align: right;\">\n",
       "      <th></th>\n",
       "      <th>Row ID</th>\n",
       "      <th>Order ID</th>\n",
       "      <th>Order Date</th>\n",
       "      <th>Ship Date</th>\n",
       "      <th>Ship Mode</th>\n",
       "      <th>Customer ID</th>\n",
       "      <th>Customer Name</th>\n",
       "      <th>Segment</th>\n",
       "      <th>Country</th>\n",
       "      <th>City</th>\n",
       "      <th>...</th>\n",
       "      <th>Postal Code</th>\n",
       "      <th>Region</th>\n",
       "      <th>Product ID</th>\n",
       "      <th>Category</th>\n",
       "      <th>Sub-Category</th>\n",
       "      <th>Product Name</th>\n",
       "      <th>Sales</th>\n",
       "      <th>Quantity</th>\n",
       "      <th>Discount</th>\n",
       "      <th>Profit</th>\n",
       "    </tr>\n",
       "  </thead>\n",
       "  <tbody>\n",
       "    <tr>\n",
       "      <th>0</th>\n",
       "      <td>1</td>\n",
       "      <td>CA-2016-152156</td>\n",
       "      <td>2016-11-08</td>\n",
       "      <td>2016-11-11</td>\n",
       "      <td>Second Class</td>\n",
       "      <td>CG-12520</td>\n",
       "      <td>Claire Gute</td>\n",
       "      <td>Consumer</td>\n",
       "      <td>United States</td>\n",
       "      <td>Henderson</td>\n",
       "      <td>...</td>\n",
       "      <td>42420.0</td>\n",
       "      <td>South</td>\n",
       "      <td>FUR-BO-10001798</td>\n",
       "      <td>Furniture</td>\n",
       "      <td>Bookcases</td>\n",
       "      <td>Bush Somerset Collection Bookcase</td>\n",
       "      <td>261.9600</td>\n",
       "      <td>2</td>\n",
       "      <td>0.00</td>\n",
       "      <td>41.9136</td>\n",
       "    </tr>\n",
       "    <tr>\n",
       "      <th>1</th>\n",
       "      <td>2</td>\n",
       "      <td>CA-2016-152156</td>\n",
       "      <td>2016-11-08</td>\n",
       "      <td>2016-11-11</td>\n",
       "      <td>Second Class</td>\n",
       "      <td>CG-12520</td>\n",
       "      <td>Claire Gute</td>\n",
       "      <td>Consumer</td>\n",
       "      <td>United States</td>\n",
       "      <td>Henderson</td>\n",
       "      <td>...</td>\n",
       "      <td>42420.0</td>\n",
       "      <td>South</td>\n",
       "      <td>FUR-CH-10000454</td>\n",
       "      <td>Furniture</td>\n",
       "      <td>Chairs</td>\n",
       "      <td>Hon Deluxe Fabric Upholstered Stacking Chairs,...</td>\n",
       "      <td>731.9400</td>\n",
       "      <td>3</td>\n",
       "      <td>0.00</td>\n",
       "      <td>219.5820</td>\n",
       "    </tr>\n",
       "    <tr>\n",
       "      <th>2</th>\n",
       "      <td>3</td>\n",
       "      <td>CA-2016-138688</td>\n",
       "      <td>2016-06-12</td>\n",
       "      <td>2016-06-16</td>\n",
       "      <td>Second Class</td>\n",
       "      <td>DV-13045</td>\n",
       "      <td>Darrin Van Huff</td>\n",
       "      <td>Corporate</td>\n",
       "      <td>United States</td>\n",
       "      <td>Los Angeles</td>\n",
       "      <td>...</td>\n",
       "      <td>90036.0</td>\n",
       "      <td>West</td>\n",
       "      <td>OFF-LA-10000240</td>\n",
       "      <td>Office Supplies</td>\n",
       "      <td>Labels</td>\n",
       "      <td>Self-Adhesive Address Labels for Typewriters b...</td>\n",
       "      <td>14.6200</td>\n",
       "      <td>2</td>\n",
       "      <td>0.00</td>\n",
       "      <td>6.8714</td>\n",
       "    </tr>\n",
       "    <tr>\n",
       "      <th>3</th>\n",
       "      <td>4</td>\n",
       "      <td>US-2015-108966</td>\n",
       "      <td>2015-10-11</td>\n",
       "      <td>2015-10-18</td>\n",
       "      <td>Standard Class</td>\n",
       "      <td>SO-20335</td>\n",
       "      <td>Sean O'Donnell</td>\n",
       "      <td>Consumer</td>\n",
       "      <td>United States</td>\n",
       "      <td>Fort Lauderdale</td>\n",
       "      <td>...</td>\n",
       "      <td>33311.0</td>\n",
       "      <td>South</td>\n",
       "      <td>FUR-TA-10000577</td>\n",
       "      <td>Furniture</td>\n",
       "      <td>Tables</td>\n",
       "      <td>Bretford CR4500 Series Slim Rectangular Table</td>\n",
       "      <td>957.5775</td>\n",
       "      <td>5</td>\n",
       "      <td>0.45</td>\n",
       "      <td>-383.0310</td>\n",
       "    </tr>\n",
       "    <tr>\n",
       "      <th>4</th>\n",
       "      <td>5</td>\n",
       "      <td>US-2015-108966</td>\n",
       "      <td>2015-10-11</td>\n",
       "      <td>2015-10-18</td>\n",
       "      <td>Standard Class</td>\n",
       "      <td>SO-20335</td>\n",
       "      <td>Sean O'Donnell</td>\n",
       "      <td>Consumer</td>\n",
       "      <td>United States</td>\n",
       "      <td>Fort Lauderdale</td>\n",
       "      <td>...</td>\n",
       "      <td>33311.0</td>\n",
       "      <td>South</td>\n",
       "      <td>OFF-ST-10000760</td>\n",
       "      <td>Office Supplies</td>\n",
       "      <td>Storage</td>\n",
       "      <td>Eldon Fold 'N Roll Cart System</td>\n",
       "      <td>22.3680</td>\n",
       "      <td>2</td>\n",
       "      <td>0.20</td>\n",
       "      <td>2.5164</td>\n",
       "    </tr>\n",
       "  </tbody>\n",
       "</table>\n",
       "<p>5 rows × 21 columns</p>\n",
       "</div>"
      ],
      "text/plain": [
       "   Row ID        Order ID Order Date  Ship Date       Ship Mode Customer ID  \\\n",
       "0       1  CA-2016-152156 2016-11-08 2016-11-11    Second Class    CG-12520   \n",
       "1       2  CA-2016-152156 2016-11-08 2016-11-11    Second Class    CG-12520   \n",
       "2       3  CA-2016-138688 2016-06-12 2016-06-16    Second Class    DV-13045   \n",
       "3       4  US-2015-108966 2015-10-11 2015-10-18  Standard Class    SO-20335   \n",
       "4       5  US-2015-108966 2015-10-11 2015-10-18  Standard Class    SO-20335   \n",
       "\n",
       "     Customer Name    Segment        Country             City  ...  \\\n",
       "0      Claire Gute   Consumer  United States        Henderson  ...   \n",
       "1      Claire Gute   Consumer  United States        Henderson  ...   \n",
       "2  Darrin Van Huff  Corporate  United States      Los Angeles  ...   \n",
       "3   Sean O'Donnell   Consumer  United States  Fort Lauderdale  ...   \n",
       "4   Sean O'Donnell   Consumer  United States  Fort Lauderdale  ...   \n",
       "\n",
       "  Postal Code  Region       Product ID         Category Sub-Category  \\\n",
       "0     42420.0   South  FUR-BO-10001798        Furniture    Bookcases   \n",
       "1     42420.0   South  FUR-CH-10000454        Furniture       Chairs   \n",
       "2     90036.0    West  OFF-LA-10000240  Office Supplies       Labels   \n",
       "3     33311.0   South  FUR-TA-10000577        Furniture       Tables   \n",
       "4     33311.0   South  OFF-ST-10000760  Office Supplies      Storage   \n",
       "\n",
       "                                        Product Name     Sales  Quantity  \\\n",
       "0                  Bush Somerset Collection Bookcase  261.9600         2   \n",
       "1  Hon Deluxe Fabric Upholstered Stacking Chairs,...  731.9400         3   \n",
       "2  Self-Adhesive Address Labels for Typewriters b...   14.6200         2   \n",
       "3      Bretford CR4500 Series Slim Rectangular Table  957.5775         5   \n",
       "4                     Eldon Fold 'N Roll Cart System   22.3680         2   \n",
       "\n",
       "   Discount    Profit  \n",
       "0      0.00   41.9136  \n",
       "1      0.00  219.5820  \n",
       "2      0.00    6.8714  \n",
       "3      0.45 -383.0310  \n",
       "4      0.20    2.5164  \n",
       "\n",
       "[5 rows x 21 columns]"
      ]
     },
     "execution_count": 2,
     "metadata": {},
     "output_type": "execute_result"
    }
   ],
   "source": [
    "import pandas as pd\n",
    "import pyodbc\n",
    "\n",
    "# Database connection parameters\n",
    "server = 'OMKAR'\n",
    "database = 'master'\n",
    "username = 'admin'\n",
    "password = '123456789'\n",
    "\n",
    "# Create a connection string\n",
    "conn_str = f'DRIVER=ODBC Driver 17 for SQL Server;SERVER={server};DATABASE={database};UID={username};PWD={password}'\n",
    "\n",
    "# Create a database connection\n",
    "conn = pyodbc.connect(conn_str)\n",
    "\n",
    "# SQL query to fetch data (replace 'your_table' with the actual table name)\n",
    "query = 'SELECT * FROM superstore_raw_data'\n",
    "\n",
    "# Use Pandas to read data into a DataFrame\n",
    "df = pd.read_sql(query, conn)\n",
    "\n",
    "# Close the database connection\n",
    "conn.close()\n",
    "\n",
    "# Display the DataFrame\n",
    "df.head()"
   ]
  },
  {
   "cell_type": "markdown",
   "id": "454eafb7",
   "metadata": {},
   "source": [
    "## Exporting Data into Bronze File:"
   ]
  },
  {
   "cell_type": "code",
   "execution_count": 3,
   "id": "75c075ff",
   "metadata": {},
   "outputs": [],
   "source": [
    "df.to_parquet(\"C:\\Data_Storage\\Bronze\\Superstore_raw_data.parquet\",index=False)"
   ]
  },
  {
   "cell_type": "markdown",
   "id": "a011aef8",
   "metadata": {},
   "source": [
    "## Preliminary Information Of Data:"
   ]
  },
  {
   "cell_type": "code",
   "execution_count": 4,
   "id": "b85f9153",
   "metadata": {
    "scrolled": false
   },
   "outputs": [
    {
     "name": "stdout",
     "output_type": "stream",
     "text": [
      "<class 'pandas.core.frame.DataFrame'>\n",
      "RangeIndex: 65535 entries, 0 to 65534\n",
      "Data columns (total 21 columns):\n",
      " #   Column         Non-Null Count  Dtype         \n",
      "---  ------         --------------  -----         \n",
      " 0   Row ID         65535 non-null  int64         \n",
      " 1   Order ID       65535 non-null  object        \n",
      " 2   Order Date     65535 non-null  datetime64[ns]\n",
      " 3   Ship Date      65535 non-null  datetime64[ns]\n",
      " 4   Ship Mode      65535 non-null  object        \n",
      " 5   Customer ID    65535 non-null  object        \n",
      " 6   Customer Name  65535 non-null  object        \n",
      " 7   Segment        65535 non-null  object        \n",
      " 8   Country        65535 non-null  object        \n",
      " 9   City           65535 non-null  object        \n",
      " 10  State          65535 non-null  object        \n",
      " 11  Postal Code    65478 non-null  float64       \n",
      " 12  Region         65535 non-null  object        \n",
      " 13  Product ID     65535 non-null  object        \n",
      " 14  Category       65535 non-null  object        \n",
      " 15  Sub-Category   65535 non-null  object        \n",
      " 16  Product Name   65535 non-null  object        \n",
      " 17  Sales          65535 non-null  float64       \n",
      " 18  Quantity       65535 non-null  int64         \n",
      " 19  Discount       65535 non-null  float64       \n",
      " 20  Profit         65535 non-null  float64       \n",
      "dtypes: datetime64[ns](2), float64(4), int64(2), object(13)\n",
      "memory usage: 10.5+ MB\n"
     ]
    }
   ],
   "source": [
    "df.info()"
   ]
  },
  {
   "cell_type": "code",
   "execution_count": 5,
   "id": "d77f1c70",
   "metadata": {},
   "outputs": [
    {
     "name": "stdout",
     "output_type": "stream",
     "text": [
      "The table contains 65535 rows and 21 columns.\n"
     ]
    }
   ],
   "source": [
    "print(f'The table contains {df.shape[0]} rows and {df.shape[1]} columns.')"
   ]
  },
  {
   "cell_type": "markdown",
   "id": "d069c072",
   "metadata": {},
   "source": [
    "## Data Cleaning :"
   ]
  },
  {
   "cell_type": "markdown",
   "id": "e840b38a",
   "metadata": {},
   "source": [
    "### 1. Treatment of Duplicate values :"
   ]
  },
  {
   "cell_type": "code",
   "execution_count": 6,
   "id": "4fe6adc9",
   "metadata": {},
   "outputs": [
    {
     "name": "stdout",
     "output_type": "stream",
     "text": [
      "The table contains 55515 duplicate rows\n"
     ]
    }
   ],
   "source": [
    "print(f'The table contains {df.duplicated().sum()} duplicate rows')   ### table contains 55515 duplicate rows so, it remove from dataset."
   ]
  },
  {
   "cell_type": "code",
   "execution_count": 7,
   "id": "1ad03ac5",
   "metadata": {},
   "outputs": [],
   "source": [
    "df.drop_duplicates(inplace=True)"
   ]
  },
  {
   "cell_type": "code",
   "execution_count": 8,
   "id": "26ef7c92",
   "metadata": {},
   "outputs": [
    {
     "name": "stdout",
     "output_type": "stream",
     "text": [
      "The table contains 0 duplicate rows after treatment of duplicate values\n"
     ]
    }
   ],
   "source": [
    "print(f'The table contains {df.duplicated().sum()} duplicate rows after treatment of duplicate values')"
   ]
  },
  {
   "cell_type": "markdown",
   "id": "3beb05ac",
   "metadata": {},
   "source": [
    "### 2. Treatment of Missing values :"
   ]
  },
  {
   "cell_type": "code",
   "execution_count": 9,
   "id": "88877029",
   "metadata": {},
   "outputs": [
    {
     "name": "stdout",
     "output_type": "stream",
     "text": [
      "The table contains 11 missing values\n"
     ]
    }
   ],
   "source": [
    "print(f'The table contains {df.isna().sum().sum()} missing values')"
   ]
  },
  {
   "cell_type": "code",
   "execution_count": 10,
   "id": "47fb4589",
   "metadata": {},
   "outputs": [
    {
     "data": {
      "text/plain": [
       "Row ID            0\n",
       "Order ID          0\n",
       "Order Date        0\n",
       "Ship Date         0\n",
       "Ship Mode         0\n",
       "Customer ID       0\n",
       "Customer Name     0\n",
       "Segment           0\n",
       "Country           0\n",
       "City              0\n",
       "State             0\n",
       "Postal Code      11\n",
       "Region            0\n",
       "Product ID        0\n",
       "Category          0\n",
       "Sub-Category      0\n",
       "Product Name      0\n",
       "Sales             0\n",
       "Quantity          0\n",
       "Discount          0\n",
       "Profit            0\n",
       "dtype: int64"
      ]
     },
     "execution_count": 10,
     "metadata": {},
     "output_type": "execute_result"
    }
   ],
   "source": [
    "df.isna().sum()      ## \"Postal Code\" column contain 11 missing values, so, these values are replaced by mode."
   ]
  },
  {
   "cell_type": "code",
   "execution_count": 11,
   "id": "6061c65c",
   "metadata": {},
   "outputs": [],
   "source": [
    "df['Postal Code'].fillna(df['Postal Code'].mode(),inplace=True)"
   ]
  },
  {
   "cell_type": "markdown",
   "id": "c9e63ddd",
   "metadata": {},
   "source": [
    "### Check data:"
   ]
  },
  {
   "cell_type": "code",
   "execution_count": 12,
   "id": "df090602",
   "metadata": {},
   "outputs": [
    {
     "name": "stdout",
     "output_type": "stream",
     "text": [
      "Row ID\n",
      "3591    2\n",
      "5760    2\n",
      "9388    2\n",
      "9387    2\n",
      "8799    2\n",
      "       ..\n",
      "3337    1\n",
      "3338    1\n",
      "3339    1\n",
      "3340    1\n",
      "9994    1\n",
      "Name: count, Length: 9994, dtype: int64\n",
      "Order ID\n",
      "CA-2017-100111    14\n",
      "CA-2017-157987    12\n",
      "CA-2016-165330    11\n",
      "US-2016-108504    11\n",
      "CA-2015-131338    10\n",
      "                  ..\n",
      "CA-2017-109778     1\n",
      "CA-2017-148929     1\n",
      "CA-2016-118332     1\n",
      "CA-2016-133669     1\n",
      "CA-2017-119914     1\n",
      "Name: count, Length: 5009, dtype: int64\n",
      "Order Date\n",
      "2016-09-05    38\n",
      "2017-09-02    36\n",
      "2016-11-10    36\n",
      "2017-12-02    34\n",
      "2017-12-01    34\n",
      "              ..\n",
      "2016-02-25     1\n",
      "2014-01-14     1\n",
      "2016-10-25     1\n",
      "2014-02-21     1\n",
      "2014-01-21     1\n",
      "Name: count, Length: 1237, dtype: int64\n",
      "Ship Date\n",
      "2015-12-16    35\n",
      "2017-09-26    34\n",
      "2017-11-21    32\n",
      "2017-12-06    32\n",
      "2017-09-06    30\n",
      "              ..\n",
      "2014-02-12     1\n",
      "2014-03-28     1\n",
      "2016-02-18     1\n",
      "2017-03-19     1\n",
      "2016-10-05     1\n",
      "Name: count, Length: 1334, dtype: int64\n",
      "Ship Mode\n",
      "Standard Class    5989\n",
      "Second Class      1948\n",
      "First Class       1539\n",
      "Same Day           544\n",
      "Name: count, dtype: int64\n",
      "Customer ID\n",
      "WB-21850    37\n",
      "MA-17560    34\n",
      "JL-15835    34\n",
      "PP-18955    34\n",
      "JD-15895    32\n",
      "            ..\n",
      "LD-16855     1\n",
      "AO-10810     1\n",
      "CJ-11875     1\n",
      "RE-19405     1\n",
      "JR-15700     1\n",
      "Name: count, Length: 793, dtype: int64\n",
      "Customer Name\n",
      "William Brown        37\n",
      "Matt Abelman         34\n",
      "John Lee             34\n",
      "Paul Prost           34\n",
      "Jonathan Doherty     32\n",
      "                     ..\n",
      "Lela Donovan          1\n",
      "Anthony O'Donnell     1\n",
      "Carl Jackson          1\n",
      "Ricardo Emerson       1\n",
      "Jocasta Rupert        1\n",
      "Name: count, Length: 793, dtype: int64\n",
      "Segment\n",
      "Consumer       5205\n",
      "Corporate      3028\n",
      "Home Office    1787\n",
      "Name: count, dtype: int64\n",
      "Country\n",
      "United States    10020\n",
      "Name: count, dtype: int64\n",
      "City\n",
      "New York City      917\n",
      "Los Angeles        748\n",
      "Philadelphia       538\n",
      "San Francisco      510\n",
      "Seattle            428\n",
      "                  ... \n",
      "Missouri City        1\n",
      "Rochester Hills      1\n",
      "Palatine             1\n",
      "La Quinta            1\n",
      "Margate              1\n",
      "Name: count, Length: 531, dtype: int64\n",
      "State\n",
      "California              2003\n",
      "New York                1131\n",
      "Texas                    987\n",
      "Pennsylvania             588\n",
      "Washington               506\n",
      "Illinois                 493\n",
      "Ohio                     470\n",
      "Florida                  383\n",
      "Michigan                 255\n",
      "North Carolina           249\n",
      "Arizona                  224\n",
      "Virginia                 224\n",
      "Georgia                  185\n",
      "Tennessee                183\n",
      "Colorado                 182\n",
      "Indiana                  149\n",
      "Kentucky                 140\n",
      "Massachusetts            135\n",
      "New Jersey               130\n",
      "Oregon                   124\n",
      "Wisconsin                110\n",
      "Maryland                 105\n",
      "Delaware                  96\n",
      "Minnesota                 89\n",
      "Connecticut               82\n",
      "Oklahoma                  66\n",
      "Missouri                  66\n",
      "Alabama                   62\n",
      "Arkansas                  61\n",
      "Rhode Island              56\n",
      "Utah                      53\n",
      "Mississippi               53\n",
      "Louisiana                 42\n",
      "South Carolina            42\n",
      "Nevada                    39\n",
      "Nebraska                  39\n",
      "New Mexico                37\n",
      "Iowa                      30\n",
      "New Hampshire             27\n",
      "Kansas                    24\n",
      "Vermont                   22\n",
      "Idaho                     21\n",
      "Montana                   15\n",
      "South Dakota              12\n",
      "District of Columbia      10\n",
      "Maine                      8\n",
      "North Dakota               7\n",
      "West Virginia              4\n",
      "Wyoming                    1\n",
      "Name: count, dtype: int64\n",
      "Postal Code\n",
      "10035.0    263\n",
      "10009.0    230\n",
      "10024.0    230\n",
      "94122.0    203\n",
      "10011.0    194\n",
      "          ... \n",
      "27534.0      1\n",
      "53186.0      1\n",
      "32503.0      1\n",
      "94509.0      1\n",
      "63376.0      1\n",
      "Name: count, Length: 631, dtype: int64\n",
      "Region\n",
      "West       3205\n",
      "East       2864\n",
      "Central    2327\n",
      "South      1624\n",
      "Name: count, dtype: int64\n",
      "Product ID\n",
      "OFF-PA-10001970    20\n",
      "TEC-AC-10003832    18\n",
      "OFF-ST-10001526    16\n",
      "FUR-FU-10004270    16\n",
      "TEC-AC-10003628    15\n",
      "                   ..\n",
      "TEC-PH-10003535     1\n",
      "TEC-MA-10002937     1\n",
      "OFF-AR-10004974     1\n",
      "TEC-AC-10004814     1\n",
      "OFF-ST-10001627     1\n",
      "Name: count, Length: 1862, dtype: int64\n",
      "Category\n",
      "Office Supplies    6039\n",
      "Furniture          2123\n",
      "Technology         1858\n",
      "Name: count, dtype: int64\n",
      "Sub-Category\n",
      "Binders        1523\n",
      "Paper          1372\n",
      "Furnishings     957\n",
      "Phones          890\n",
      "Storage         854\n",
      "Art             797\n",
      "Accessories     785\n",
      "Chairs          618\n",
      "Appliances      467\n",
      "Labels          364\n",
      "Tables          319\n",
      "Envelopes       255\n",
      "Bookcases       229\n",
      "Fasteners       217\n",
      "Supplies        190\n",
      "Machines        115\n",
      "Copiers          68\n",
      "Name: count, dtype: int64\n",
      "Product Name\n",
      "Staple envelope                                        48\n",
      "Staples                                                46\n",
      "Easy-staple paper                                      46\n",
      "Avery Non-Stick Binders                                20\n",
      "Staples in misc. colors                                19\n",
      "                                                       ..\n",
      "Vtech AT&T CL2940 Corded Speakerphone, Black            1\n",
      "Fellowes Smart Surge Ten-Outlet Protector, Platinum     1\n",
      "Pyle PRT45 Retro Home Telephone                         1\n",
      "Xerox 1901                                              1\n",
      "Xerox 1922                                              1\n",
      "Name: count, Length: 1853, dtype: int64\n",
      "Sales\n",
      "12.960     56\n",
      "19.440     39\n",
      "15.552     39\n",
      "10.368     36\n",
      "32.400     28\n",
      "           ..\n",
      "569.536     1\n",
      "796.425     1\n",
      "12.832      1\n",
      "404.940     1\n",
      "243.160     1\n",
      "Name: count, Length: 6144, dtype: int64\n",
      "Quantity\n",
      "3     2413\n",
      "2     2404\n",
      "5     1234\n",
      "4     1195\n",
      "1      904\n",
      "7      608\n",
      "6      574\n",
      "9      258\n",
      "8      258\n",
      "10      57\n",
      "11      34\n",
      "14      29\n",
      "13      28\n",
      "12      24\n",
      "Name: count, dtype: int64\n",
      "Discount\n",
      "0.00    4819\n",
      "0.20    3662\n",
      "0.70     418\n",
      "0.80     300\n",
      "0.30     227\n",
      "0.40     206\n",
      "0.60     138\n",
      "0.10      94\n",
      "0.50      66\n",
      "0.15      52\n",
      "0.32      27\n",
      "0.45      11\n",
      "Name: count, dtype: int64\n",
      "Profit\n",
      " 0.0000     65\n",
      " 6.2208     43\n",
      " 9.3312     38\n",
      " 5.4432     32\n",
      " 3.6288     32\n",
      "            ..\n",
      "-8.5008      1\n",
      "-12.7512     1\n",
      "-22.6200     1\n",
      " 5.4288      1\n",
      " 72.9480     1\n",
      "Name: count, Length: 7545, dtype: int64\n"
     ]
    }
   ],
   "source": [
    "for i in df:\n",
    "    print(df[i].value_counts())   ## Noice in data is not present"
   ]
  },
  {
   "cell_type": "markdown",
   "id": "7116be93",
   "metadata": {},
   "source": [
    "##  Exporting Data into Silver File:"
   ]
  },
  {
   "cell_type": "code",
   "execution_count": 13,
   "id": "b0c5cd5a",
   "metadata": {},
   "outputs": [],
   "source": [
    "df.to_parquet(\"C:\\Data_Storage\\Silver\\Superstore_cleaned_data.parquet\",index=False)"
   ]
  },
  {
   "cell_type": "markdown",
   "id": "410d4834",
   "metadata": {},
   "source": [
    "## Data transformation:"
   ]
  },
  {
   "cell_type": "markdown",
   "id": "6927fe65",
   "metadata": {},
   "source": [
    "####  Days to Ship: Calculating the number of days it took to ship each order."
   ]
  },
  {
   "cell_type": "code",
   "execution_count": 14,
   "id": "1a428be2",
   "metadata": {},
   "outputs": [],
   "source": [
    "df['Days to Ship'] = (df['Ship Date'] - df['Order Date']).dt.days"
   ]
  },
  {
   "cell_type": "markdown",
   "id": "9b776a74",
   "metadata": {},
   "source": [
    "####  Revenue per Order"
   ]
  },
  {
   "cell_type": "code",
   "execution_count": 15,
   "id": "e888b8d8",
   "metadata": {},
   "outputs": [],
   "source": [
    "df['Revenue per Order'] = df['Sales'] / df['Quantity']"
   ]
  },
  {
   "cell_type": "markdown",
   "id": "1604823a",
   "metadata": {},
   "source": [
    "#### Discounted Amount"
   ]
  },
  {
   "cell_type": "code",
   "execution_count": 16,
   "id": "e3fd1683",
   "metadata": {},
   "outputs": [],
   "source": [
    " df['Discounted Amount'] = df['Sales'] * df['Discount']"
   ]
  },
  {
   "cell_type": "markdown",
   "id": "0730a742",
   "metadata": {},
   "source": [
    "####  Profit Margin"
   ]
  },
  {
   "cell_type": "code",
   "execution_count": 17,
   "id": "4ad95139",
   "metadata": {},
   "outputs": [],
   "source": [
    "df['Profit Margin'] = (df['Profit'] / df['Sales']) * 100"
   ]
  },
  {
   "cell_type": "markdown",
   "id": "16697eac",
   "metadata": {},
   "source": [
    "#### Seasonal Analysis"
   ]
  },
  {
   "cell_type": "code",
   "execution_count": 18,
   "id": "19f0fb23",
   "metadata": {},
   "outputs": [],
   "source": [
    "df['Month'] = df['Order Date'].dt.month\n",
    "df['Year'] = df['Order Date'].dt.year"
   ]
  },
  {
   "cell_type": "markdown",
   "id": "d9056ae0",
   "metadata": {},
   "source": [
    "####  Customer Tenure:\n",
    "Calculating the tenure of each customer by finding the difference between the first and last order dates for each customer."
   ]
  },
  {
   "cell_type": "code",
   "execution_count": 19,
   "id": "20129ec3",
   "metadata": {},
   "outputs": [],
   "source": [
    "df['Customer Tenure'] = (df.groupby('Customer ID')['Order Date'].transform('max') - df.groupby('Customer ID')['Order Date'].transform('min')).dt.days"
   ]
  },
  {
   "cell_type": "markdown",
   "id": "e011d5a1",
   "metadata": {},
   "source": [
    "####  Cumulative Sales and Profit:\n",
    "Calculating the cumulative sales and profit over time to observe the overall trend."
   ]
  },
  {
   "cell_type": "code",
   "execution_count": 20,
   "id": "5d70fb22",
   "metadata": {},
   "outputs": [],
   "source": [
    "df['Cumulative Sales'] = df.groupby('Order Date')['Sales'].transform('cumsum')\n",
    "df['Cumulative Profit'] = df.groupby('Order Date')['Profit'].transform('cumsum')"
   ]
  },
  {
   "cell_type": "markdown",
   "id": "db452b1c",
   "metadata": {},
   "source": [
    "######  Order Size Category:\n",
    "Categorizing orders based on the quantity of products ordered (e.g., Small, Medium, Large). "
   ]
  },
  {
   "cell_type": "code",
   "execution_count": 21,
   "id": "ab4b4337",
   "metadata": {},
   "outputs": [],
   "source": [
    "df['Order Size Category'] = pd.cut(df['Quantity'], bins=[0, 5, 10, float('inf')], labels=['Small', 'Medium', 'Large'])"
   ]
  },
  {
   "cell_type": "code",
   "execution_count": 22,
   "id": "ba4b315a",
   "metadata": {},
   "outputs": [
    {
     "data": {
      "text/html": [
       "<div>\n",
       "<style scoped>\n",
       "    .dataframe tbody tr th:only-of-type {\n",
       "        vertical-align: middle;\n",
       "    }\n",
       "\n",
       "    .dataframe tbody tr th {\n",
       "        vertical-align: top;\n",
       "    }\n",
       "\n",
       "    .dataframe thead th {\n",
       "        text-align: right;\n",
       "    }\n",
       "</style>\n",
       "<table border=\"1\" class=\"dataframe\">\n",
       "  <thead>\n",
       "    <tr style=\"text-align: right;\">\n",
       "      <th></th>\n",
       "      <th>Row ID</th>\n",
       "      <th>Order ID</th>\n",
       "      <th>Order Date</th>\n",
       "      <th>Ship Date</th>\n",
       "      <th>Ship Mode</th>\n",
       "      <th>Customer ID</th>\n",
       "      <th>Customer Name</th>\n",
       "      <th>Segment</th>\n",
       "      <th>Country</th>\n",
       "      <th>City</th>\n",
       "      <th>...</th>\n",
       "      <th>Days to Ship</th>\n",
       "      <th>Revenue per Order</th>\n",
       "      <th>Discounted Amount</th>\n",
       "      <th>Profit Margin</th>\n",
       "      <th>Month</th>\n",
       "      <th>Year</th>\n",
       "      <th>Customer Tenure</th>\n",
       "      <th>Cumulative Sales</th>\n",
       "      <th>Cumulative Profit</th>\n",
       "      <th>Order Size Category</th>\n",
       "    </tr>\n",
       "  </thead>\n",
       "  <tbody>\n",
       "    <tr>\n",
       "      <th>0</th>\n",
       "      <td>1</td>\n",
       "      <td>CA-2016-152156</td>\n",
       "      <td>2016-11-08</td>\n",
       "      <td>2016-11-11</td>\n",
       "      <td>Second Class</td>\n",
       "      <td>CG-12520</td>\n",
       "      <td>Claire Gute</td>\n",
       "      <td>Consumer</td>\n",
       "      <td>United States</td>\n",
       "      <td>Henderson</td>\n",
       "      <td>...</td>\n",
       "      <td>3</td>\n",
       "      <td>130.9800</td>\n",
       "      <td>0.000000</td>\n",
       "      <td>16.00</td>\n",
       "      <td>11</td>\n",
       "      <td>2016</td>\n",
       "      <td>469</td>\n",
       "      <td>261.9600</td>\n",
       "      <td>41.9136</td>\n",
       "      <td>Small</td>\n",
       "    </tr>\n",
       "    <tr>\n",
       "      <th>1</th>\n",
       "      <td>2</td>\n",
       "      <td>CA-2016-152156</td>\n",
       "      <td>2016-11-08</td>\n",
       "      <td>2016-11-11</td>\n",
       "      <td>Second Class</td>\n",
       "      <td>CG-12520</td>\n",
       "      <td>Claire Gute</td>\n",
       "      <td>Consumer</td>\n",
       "      <td>United States</td>\n",
       "      <td>Henderson</td>\n",
       "      <td>...</td>\n",
       "      <td>3</td>\n",
       "      <td>243.9800</td>\n",
       "      <td>0.000000</td>\n",
       "      <td>30.00</td>\n",
       "      <td>11</td>\n",
       "      <td>2016</td>\n",
       "      <td>469</td>\n",
       "      <td>993.9000</td>\n",
       "      <td>261.4956</td>\n",
       "      <td>Small</td>\n",
       "    </tr>\n",
       "    <tr>\n",
       "      <th>2</th>\n",
       "      <td>3</td>\n",
       "      <td>CA-2016-138688</td>\n",
       "      <td>2016-06-12</td>\n",
       "      <td>2016-06-16</td>\n",
       "      <td>Second Class</td>\n",
       "      <td>DV-13045</td>\n",
       "      <td>Darrin Van Huff</td>\n",
       "      <td>Corporate</td>\n",
       "      <td>United States</td>\n",
       "      <td>Los Angeles</td>\n",
       "      <td>...</td>\n",
       "      <td>4</td>\n",
       "      <td>7.3100</td>\n",
       "      <td>0.000000</td>\n",
       "      <td>47.00</td>\n",
       "      <td>6</td>\n",
       "      <td>2016</td>\n",
       "      <td>547</td>\n",
       "      <td>14.6200</td>\n",
       "      <td>6.8714</td>\n",
       "      <td>Small</td>\n",
       "    </tr>\n",
       "    <tr>\n",
       "      <th>3</th>\n",
       "      <td>4</td>\n",
       "      <td>US-2015-108966</td>\n",
       "      <td>2015-10-11</td>\n",
       "      <td>2015-10-18</td>\n",
       "      <td>Standard Class</td>\n",
       "      <td>SO-20335</td>\n",
       "      <td>Sean O'Donnell</td>\n",
       "      <td>Consumer</td>\n",
       "      <td>United States</td>\n",
       "      <td>Fort Lauderdale</td>\n",
       "      <td>...</td>\n",
       "      <td>7</td>\n",
       "      <td>191.5155</td>\n",
       "      <td>430.909875</td>\n",
       "      <td>-40.00</td>\n",
       "      <td>10</td>\n",
       "      <td>2015</td>\n",
       "      <td>782</td>\n",
       "      <td>957.5775</td>\n",
       "      <td>-383.0310</td>\n",
       "      <td>Small</td>\n",
       "    </tr>\n",
       "    <tr>\n",
       "      <th>4</th>\n",
       "      <td>5</td>\n",
       "      <td>US-2015-108966</td>\n",
       "      <td>2015-10-11</td>\n",
       "      <td>2015-10-18</td>\n",
       "      <td>Standard Class</td>\n",
       "      <td>SO-20335</td>\n",
       "      <td>Sean O'Donnell</td>\n",
       "      <td>Consumer</td>\n",
       "      <td>United States</td>\n",
       "      <td>Fort Lauderdale</td>\n",
       "      <td>...</td>\n",
       "      <td>7</td>\n",
       "      <td>11.1840</td>\n",
       "      <td>4.473600</td>\n",
       "      <td>11.25</td>\n",
       "      <td>10</td>\n",
       "      <td>2015</td>\n",
       "      <td>782</td>\n",
       "      <td>979.9455</td>\n",
       "      <td>-380.5146</td>\n",
       "      <td>Small</td>\n",
       "    </tr>\n",
       "  </tbody>\n",
       "</table>\n",
       "<p>5 rows × 31 columns</p>\n",
       "</div>"
      ],
      "text/plain": [
       "   Row ID        Order ID Order Date  Ship Date       Ship Mode Customer ID  \\\n",
       "0       1  CA-2016-152156 2016-11-08 2016-11-11    Second Class    CG-12520   \n",
       "1       2  CA-2016-152156 2016-11-08 2016-11-11    Second Class    CG-12520   \n",
       "2       3  CA-2016-138688 2016-06-12 2016-06-16    Second Class    DV-13045   \n",
       "3       4  US-2015-108966 2015-10-11 2015-10-18  Standard Class    SO-20335   \n",
       "4       5  US-2015-108966 2015-10-11 2015-10-18  Standard Class    SO-20335   \n",
       "\n",
       "     Customer Name    Segment        Country             City  ...  \\\n",
       "0      Claire Gute   Consumer  United States        Henderson  ...   \n",
       "1      Claire Gute   Consumer  United States        Henderson  ...   \n",
       "2  Darrin Van Huff  Corporate  United States      Los Angeles  ...   \n",
       "3   Sean O'Donnell   Consumer  United States  Fort Lauderdale  ...   \n",
       "4   Sean O'Donnell   Consumer  United States  Fort Lauderdale  ...   \n",
       "\n",
       "  Days to Ship  Revenue per Order Discounted Amount Profit Margin Month  Year  \\\n",
       "0            3           130.9800          0.000000         16.00    11  2016   \n",
       "1            3           243.9800          0.000000         30.00    11  2016   \n",
       "2            4             7.3100          0.000000         47.00     6  2016   \n",
       "3            7           191.5155        430.909875        -40.00    10  2015   \n",
       "4            7            11.1840          4.473600         11.25    10  2015   \n",
       "\n",
       "  Customer Tenure  Cumulative Sales  Cumulative Profit  Order Size Category  \n",
       "0             469          261.9600            41.9136                Small  \n",
       "1             469          993.9000           261.4956                Small  \n",
       "2             547           14.6200             6.8714                Small  \n",
       "3             782          957.5775          -383.0310                Small  \n",
       "4             782          979.9455          -380.5146                Small  \n",
       "\n",
       "[5 rows x 31 columns]"
      ]
     },
     "execution_count": 22,
     "metadata": {},
     "output_type": "execute_result"
    }
   ],
   "source": [
    "df.head()"
   ]
  },
  {
   "cell_type": "markdown",
   "id": "10cb7e88",
   "metadata": {},
   "source": [
    "## Preliminary Information of Data after Data Cleaning & Data Transformation :"
   ]
  },
  {
   "cell_type": "code",
   "execution_count": 23,
   "id": "850dc3e9",
   "metadata": {},
   "outputs": [
    {
     "name": "stdout",
     "output_type": "stream",
     "text": [
      "<class 'pandas.core.frame.DataFrame'>\n",
      "Index: 10020 entries, 0 to 19783\n",
      "Data columns (total 31 columns):\n",
      " #   Column               Non-Null Count  Dtype         \n",
      "---  ------               --------------  -----         \n",
      " 0   Row ID               10020 non-null  int64         \n",
      " 1   Order ID             10020 non-null  object        \n",
      " 2   Order Date           10020 non-null  datetime64[ns]\n",
      " 3   Ship Date            10020 non-null  datetime64[ns]\n",
      " 4   Ship Mode            10020 non-null  object        \n",
      " 5   Customer ID          10020 non-null  object        \n",
      " 6   Customer Name        10020 non-null  object        \n",
      " 7   Segment              10020 non-null  object        \n",
      " 8   Country              10020 non-null  object        \n",
      " 9   City                 10020 non-null  object        \n",
      " 10  State                10020 non-null  object        \n",
      " 11  Postal Code          10009 non-null  float64       \n",
      " 12  Region               10020 non-null  object        \n",
      " 13  Product ID           10020 non-null  object        \n",
      " 14  Category             10020 non-null  object        \n",
      " 15  Sub-Category         10020 non-null  object        \n",
      " 16  Product Name         10020 non-null  object        \n",
      " 17  Sales                10020 non-null  float64       \n",
      " 18  Quantity             10020 non-null  int64         \n",
      " 19  Discount             10020 non-null  float64       \n",
      " 20  Profit               10020 non-null  float64       \n",
      " 21  Days to Ship         10020 non-null  int64         \n",
      " 22  Revenue per Order    10020 non-null  float64       \n",
      " 23  Discounted Amount    10020 non-null  float64       \n",
      " 24  Profit Margin        10020 non-null  float64       \n",
      " 25  Month                10020 non-null  int32         \n",
      " 26  Year                 10020 non-null  int32         \n",
      " 27  Customer Tenure      10020 non-null  int64         \n",
      " 28  Cumulative Sales     10020 non-null  float64       \n",
      " 29  Cumulative Profit    10020 non-null  float64       \n",
      " 30  Order Size Category  10020 non-null  category      \n",
      "dtypes: category(1), datetime64[ns](2), float64(9), int32(2), int64(4), object(13)\n",
      "memory usage: 2.3+ MB\n"
     ]
    }
   ],
   "source": [
    "df.info()"
   ]
  },
  {
   "cell_type": "code",
   "execution_count": 24,
   "id": "896af84c",
   "metadata": {},
   "outputs": [
    {
     "name": "stdout",
     "output_type": "stream",
     "text": [
      "The table contains 10020 rows and 31 columns.\n"
     ]
    }
   ],
   "source": [
    "print(f'The table contains {df.shape[0]} rows and {df.shape[1]} columns.')"
   ]
  },
  {
   "cell_type": "markdown",
   "id": "2562abb5",
   "metadata": {},
   "source": [
    "##  Exporting Data into Gold File:"
   ]
  },
  {
   "cell_type": "code",
   "execution_count": 25,
   "id": "7d3a229c",
   "metadata": {},
   "outputs": [],
   "source": [
    "df.to_parquet(\"C:\\Data_Storage\\Gold\\Superstore_buziness_data.parquet\",index=False)"
   ]
  },
  {
   "cell_type": "code",
   "execution_count": 26,
   "id": "2b4f7f49",
   "metadata": {},
   "outputs": [],
   "source": []
  },
  {
   "cell_type": "code",
   "execution_count": null,
   "id": "cfc1ec16",
   "metadata": {},
   "outputs": [],
   "source": []
  }
 ],
 "metadata": {
  "kernelspec": {
   "display_name": "Python 3 (ipykernel)",
   "language": "python",
   "name": "python3"
  },
  "language_info": {
   "codemirror_mode": {
    "name": "ipython",
    "version": 3
   },
   "file_extension": ".py",
   "mimetype": "text/x-python",
   "name": "python",
   "nbconvert_exporter": "python",
   "pygments_lexer": "ipython3",
   "version": "3.11.5"
  }
 },
 "nbformat": 4,
 "nbformat_minor": 5
}
